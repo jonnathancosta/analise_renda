{
 "cells": [
  {
   "cell_type": "code",
   "execution_count": 1,
   "metadata": {},
   "outputs": [],
   "source": [
    "import pandas as pd"
   ]
  },
  {
   "cell_type": "code",
   "execution_count": 2,
   "metadata": {},
   "outputs": [
    {
     "name": "stdout",
     "output_type": "stream",
     "text": [
      "        Nome Sobrenome                         Email  UF     Cidade  \\\n",
      "0     Sergio     Costa  eduardo.oliveira@exemplo.com  DF   Brasília   \n",
      "1    Eduardo      Melo     quintino.melo@exemplo.com  PE     Recife   \n",
      "2     Sergio   Pereira    olivia.freitas@exemplo.com  CE  Fortaleza   \n",
      "3    Gustavo  Oliveira      gustavo.melo@exemplo.com  SP  São Paulo   \n",
      "4    Juliana  Oliveira    carlos.almeida@exemplo.com  DF   Brasília   \n",
      "..       ...       ...                           ...  ..        ...   \n",
      "995      Ana     Souza      helena.souza@exemplo.com  GO    Goiânia   \n",
      "996    Bruno     Costa      sergio.gomes@exemplo.com  PI   Teresina   \n",
      "997    Karen     Gomes   nicolas.pereira@exemplo.com  TO     Palmas   \n",
      "998   Carlos    Santos        ana.santos@exemplo.com  RN      Natal   \n",
      "999    Diana  Oliveira     igor.oliveira@exemplo.com  CE  Fortaleza   \n",
      "\n",
      "        Genero           Renda Média        Escolaridade   Estado Civil  \n",
      "0    Masculino   R$ 6.001 - R$ 8.000     Ensino Superior       Viúvo(a)  \n",
      "1    Masculino   R$ 6.001 - R$ 8.000           Doutorado  Divorciado(a)  \n",
      "2     Feminino   R$ 2.001 - R$ 4.000        Ensino Médio    Solteiro(a)  \n",
      "3     Feminino   R$ 2.001 - R$ 4.000           Doutorado       Viúvo(a)  \n",
      "4    Masculino    Acima de R$ 10.000     Ensino Superior  Divorciado(a)  \n",
      "..         ...                   ...                 ...            ...  \n",
      "995   Feminino   R$ 2.001 - R$ 4.000            Mestrado      Casado(a)  \n",
      "996  Masculino    Acima de R$ 10.000        Ensino Médio       Viúvo(a)  \n",
      "997   Feminino   R$ 4.001 - R$ 6.000     Ensino Superior       Viúvo(a)  \n",
      "998  Masculino   R$ 2.001 - R$ 4.000  Ensino Fundamental      Casado(a)  \n",
      "999   Feminino  R$ 8.001 - R$ 10.000            Mestrado       Viúvo(a)  \n",
      "\n",
      "[1000 rows x 9 columns]\n"
     ]
    }
   ],
   "source": [
    "df = pd.read_csv('Dataset.csv')\n",
    "print(df)"
   ]
  },
  {
   "cell_type": "code",
   "execution_count": 3,
   "metadata": {},
   "outputs": [],
   "source": [
    "#criando dicionário para renda média\n",
    "renda_map = {\n",
    "    'R$ 2.001 - R$ 4.000': 3000,\n",
    "    'R$4.001 - R$ 6.000': 5000,\n",
    "    'R$ 6.001 - R$ 8.000': 7000,\n",
    "    'R$ 8.001 - R$ 10.000': 9000,\n",
    "    'Acima de R$ 10.000': 11000\n",
    "}\n",
    "\n",
    "#Add novo campo de renda média, mas com valores inteiros \n",
    "df['renda_media_numerica'] = df['Renda Média'].map(renda_map) "
   ]
  },
  {
   "cell_type": "code",
   "execution_count": 4,
   "metadata": {},
   "outputs": [
    {
     "name": "stdout",
     "output_type": "stream",
     "text": [
      "    UF  renda_media_numerica\n",
      "0   AM               7692.31\n",
      "1   BA               7666.67\n",
      "2   CE               7378.38\n",
      "3   DF               8235.29\n",
      "4   GO               7864.86\n",
      "5   MA               7810.81\n",
      "6   MG               6948.72\n",
      "7   MS               7355.56\n",
      "8   PA               7370.37\n",
      "9   PE               7382.98\n",
      "10  PI               6720.93\n",
      "11  PR               6945.95\n",
      "12  RJ               7871.79\n",
      "13  RN               8655.17\n",
      "14  RS               7413.79\n",
      "15  SC               7325.58\n",
      "16  SP               7903.23\n",
      "17  TO               7666.67\n"
     ]
    }
   ],
   "source": [
    "#Agrupando valores de renda média por UF\n",
    "renda_media_uf = df.groupby('UF')['renda_media_numerica'].mean().reset_index()\n",
    "renda_media_uf['renda_media_numerica'] = renda_media_uf['renda_media_numerica'].round(2)\n",
    "print(renda_media_uf)"
   ]
  },
  {
   "cell_type": "code",
   "execution_count": 5,
   "metadata": {},
   "outputs": [
    {
     "name": "stdout",
     "output_type": "stream",
     "text": [
      "    UF  renda_media_numerica\n",
      "0   AM                7000.0\n",
      "1   BA                9000.0\n",
      "2   CE                7000.0\n",
      "3   DF                9000.0\n",
      "4   GO                7000.0\n",
      "5   MA                7000.0\n",
      "6   MG                7000.0\n",
      "7   MS                7000.0\n",
      "8   PA                7000.0\n",
      "9   PE                7000.0\n",
      "10  PI                7000.0\n",
      "11  PR                7000.0\n",
      "12  RJ                9000.0\n",
      "13  RN                9000.0\n",
      "14  RS                9000.0\n",
      "15  SC                7000.0\n",
      "16  SP                9000.0\n",
      "17  TO                9000.0\n"
     ]
    }
   ],
   "source": [
    "renda_mediana_uf = df.groupby('UF')['renda_media_numerica'].median().reset_index()\n",
    "print(renda_mediana_uf) "
   ]
  }
 ],
 "metadata": {
  "kernelspec": {
   "display_name": "Python 3",
   "language": "python",
   "name": "python3"
  },
  "language_info": {
   "codemirror_mode": {
    "name": "ipython",
    "version": 3
   },
   "file_extension": ".py",
   "mimetype": "text/x-python",
   "name": "python",
   "nbconvert_exporter": "python",
   "pygments_lexer": "ipython3",
   "version": "3.8.10"
  }
 },
 "nbformat": 4,
 "nbformat_minor": 2
}
