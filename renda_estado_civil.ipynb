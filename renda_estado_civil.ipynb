{
 "cells": [
  {
   "cell_type": "code",
   "execution_count": 1,
   "metadata": {},
   "outputs": [],
   "source": [
    "! pip install seaborn --quiet"
   ]
  },
  {
   "cell_type": "code",
   "execution_count": null,
   "metadata": {},
   "outputs": [
    {
     "name": "stderr",
     "output_type": "stream",
     "text": [
      "WARNING: You are using pip version 21.1.1; however, version 24.2 is available.\n",
      "You should consider upgrading via the 'c:\\users\\blueshift\\appdata\\local\\programs\\python\\python38\\python.exe -m pip install --upgrade pip' command.\n"
     ]
    }
   ],
   "source": [
    "! pip install matplotlib   --quiet"
   ]
  },
  {
   "cell_type": "code",
   "execution_count": 3,
   "metadata": {},
   "outputs": [],
   "source": [
    "import pandas as pd\n",
    "import matplotlib.pyplot as plt\n"
   ]
  },
  {
   "cell_type": "code",
   "execution_count": 4,
   "metadata": {},
   "outputs": [],
   "source": [
    "df = pd.read_csv('Dataset.csv')"
   ]
  },
  {
   "cell_type": "code",
   "execution_count": 5,
   "metadata": {},
   "outputs": [],
   "source": [
    "renda_map = {\n",
    "    'R$ 2.001 - R$ 4.000': 3000,\n",
    "    'R$4.001 - R$ 6.000': 5000,\n",
    "    'R$ 6.001 - R$ 8.000': 7000,\n",
    "    'R$ 8.001 - R$ 10.000': 9000,\n",
    "    'Acima de R$ 10.000': 11000\n",
    "}\n",
    "\n",
    "#Add novo campo de renda média, mas com valores inteiros \n",
    "df['renda_media_numerica'] = df['Renda Média'].map(renda_map) "
   ]
  },
  {
   "cell_type": "code",
   "execution_count": 6,
   "metadata": {},
   "outputs": [
    {
     "data": {
      "text/html": [
       "<div>\n",
       "<style scoped>\n",
       "    .dataframe tbody tr th:only-of-type {\n",
       "        vertical-align: middle;\n",
       "    }\n",
       "\n",
       "    .dataframe tbody tr th {\n",
       "        vertical-align: top;\n",
       "    }\n",
       "\n",
       "    .dataframe thead th {\n",
       "        text-align: right;\n",
       "    }\n",
       "</style>\n",
       "<table border=\"1\" class=\"dataframe\">\n",
       "  <thead>\n",
       "    <tr style=\"text-align: right;\">\n",
       "      <th></th>\n",
       "      <th>Estado Civil</th>\n",
       "      <th>renda_media_numerica</th>\n",
       "      <th>relacao_renda_estado_civil</th>\n",
       "    </tr>\n",
       "  </thead>\n",
       "  <tbody>\n",
       "    <tr>\n",
       "      <th>0</th>\n",
       "      <td>Casado(a)</td>\n",
       "      <td>3000.0</td>\n",
       "      <td>32</td>\n",
       "    </tr>\n",
       "    <tr>\n",
       "      <th>1</th>\n",
       "      <td>Casado(a)</td>\n",
       "      <td>7000.0</td>\n",
       "      <td>48</td>\n",
       "    </tr>\n",
       "    <tr>\n",
       "      <th>2</th>\n",
       "      <td>Casado(a)</td>\n",
       "      <td>9000.0</td>\n",
       "      <td>40</td>\n",
       "    </tr>\n",
       "    <tr>\n",
       "      <th>3</th>\n",
       "      <td>Casado(a)</td>\n",
       "      <td>11000.0</td>\n",
       "      <td>36</td>\n",
       "    </tr>\n",
       "    <tr>\n",
       "      <th>4</th>\n",
       "      <td>Divorciado(a)</td>\n",
       "      <td>3000.0</td>\n",
       "      <td>42</td>\n",
       "    </tr>\n",
       "    <tr>\n",
       "      <th>5</th>\n",
       "      <td>Divorciado(a)</td>\n",
       "      <td>7000.0</td>\n",
       "      <td>55</td>\n",
       "    </tr>\n",
       "    <tr>\n",
       "      <th>6</th>\n",
       "      <td>Divorciado(a)</td>\n",
       "      <td>9000.0</td>\n",
       "      <td>40</td>\n",
       "    </tr>\n",
       "    <tr>\n",
       "      <th>7</th>\n",
       "      <td>Divorciado(a)</td>\n",
       "      <td>11000.0</td>\n",
       "      <td>36</td>\n",
       "    </tr>\n",
       "    <tr>\n",
       "      <th>8</th>\n",
       "      <td>Solteiro(a)</td>\n",
       "      <td>3000.0</td>\n",
       "      <td>38</td>\n",
       "    </tr>\n",
       "    <tr>\n",
       "      <th>9</th>\n",
       "      <td>Solteiro(a)</td>\n",
       "      <td>7000.0</td>\n",
       "      <td>45</td>\n",
       "    </tr>\n",
       "    <tr>\n",
       "      <th>10</th>\n",
       "      <td>Solteiro(a)</td>\n",
       "      <td>9000.0</td>\n",
       "      <td>46</td>\n",
       "    </tr>\n",
       "    <tr>\n",
       "      <th>11</th>\n",
       "      <td>Solteiro(a)</td>\n",
       "      <td>11000.0</td>\n",
       "      <td>37</td>\n",
       "    </tr>\n",
       "    <tr>\n",
       "      <th>12</th>\n",
       "      <td>Viúvo(a)</td>\n",
       "      <td>3000.0</td>\n",
       "      <td>36</td>\n",
       "    </tr>\n",
       "    <tr>\n",
       "      <th>13</th>\n",
       "      <td>Viúvo(a)</td>\n",
       "      <td>7000.0</td>\n",
       "      <td>48</td>\n",
       "    </tr>\n",
       "    <tr>\n",
       "      <th>14</th>\n",
       "      <td>Viúvo(a)</td>\n",
       "      <td>9000.0</td>\n",
       "      <td>53</td>\n",
       "    </tr>\n",
       "    <tr>\n",
       "      <th>15</th>\n",
       "      <td>Viúvo(a)</td>\n",
       "      <td>11000.0</td>\n",
       "      <td>40</td>\n",
       "    </tr>\n",
       "  </tbody>\n",
       "</table>\n",
       "</div>"
      ],
      "text/plain": [
       "     Estado Civil  renda_media_numerica  relacao_renda_estado_civil\n",
       "0       Casado(a)                3000.0                          32\n",
       "1       Casado(a)                7000.0                          48\n",
       "2       Casado(a)                9000.0                          40\n",
       "3       Casado(a)               11000.0                          36\n",
       "4   Divorciado(a)                3000.0                          42\n",
       "5   Divorciado(a)                7000.0                          55\n",
       "6   Divorciado(a)                9000.0                          40\n",
       "7   Divorciado(a)               11000.0                          36\n",
       "8     Solteiro(a)                3000.0                          38\n",
       "9     Solteiro(a)                7000.0                          45\n",
       "10    Solteiro(a)                9000.0                          46\n",
       "11    Solteiro(a)               11000.0                          37\n",
       "12       Viúvo(a)                3000.0                          36\n",
       "13       Viúvo(a)                7000.0                          48\n",
       "14       Viúvo(a)                9000.0                          53\n",
       "15       Viúvo(a)               11000.0                          40"
      ]
     },
     "execution_count": 6,
     "metadata": {},
     "output_type": "execute_result"
    }
   ],
   "source": [
    "relacao_estado_civil_renda = df.groupby(['Estado Civil','renda_media_numerica']).size().reset_index(name='relacao_renda_estado_civil')\n",
    "\n",
    "relacao_estado_civil_renda"
   ]
  },
  {
   "cell_type": "code",
   "execution_count": 7,
   "metadata": {},
   "outputs": [
    {
     "data": {
      "image/png": "[encoded data removed]",
      "text/plain": [
       "<Figure size 640x480 with 1 Axes>"
      ]
     },
     "metadata": {},
     "output_type": "display_data"
    }
   ],
   "source": [
    "pivot = relacao_estado_civil_renda.pivot(index='Estado Civil',\n",
    "                                         columns='renda_media_numerica',\n",
    "                                         values='relacao_renda_estado_civil')\n",
    "pivot.plot(kind='bar',\n",
    "           stacked='true')\n",
    "\n",
    "plt.title('Proporção de Renda por Estado Civil')\n",
    "plt.xlabel('Estado Civil')\n",
    "plt.ylabel('Renda por Estado Civil')\n",
    "plt.legend(title='Estado Civil')\n",
    "plt.legend(loc='upper left', bbox_to_anchor=(1, 1))\n",
    "# Mostrando o gráfico\n",
    "plt.show()\n"
   ]
  }
 ],
 "metadata": {
  "kernelspec": {
   "display_name": "Python 3",
   "language": "python",
   "name": "python3"
  },
  "language_info": {
   "codemirror_mode": {
    "name": "ipython",
    "version": 3
   },
   "file_extension": ".py",
   "mimetype": "text/x-python",
   "name": "python",
   "nbconvert_exporter": "python",
   "pygments_lexer": "ipython3",
   "version": "3.8.10"
  }
 },
 "nbformat": 4,
 "nbformat_minor": 2
}
